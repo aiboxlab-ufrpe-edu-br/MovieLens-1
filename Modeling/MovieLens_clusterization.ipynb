{
 "cells": [
  {
   "cell_type": "code",
   "execution_count": 5,
   "metadata": {},
   "outputs": [
    {
     "name": "stderr",
     "output_type": "stream",
     "text": [
      "UsageError: Line magic function `%install_ext` not found.\n"
     ]
    }
   ],
   "source": [
    "%install_ext https://raw.github.com/cpcloud/ipython-autotime/master/autotime.py\n",
    "%load_ext autotime"
   ]
  },
  {
   "cell_type": "code",
   "execution_count": 778,
   "metadata": {},
   "outputs": [],
   "source": [
    "import mlxtend\n",
    "import numpy as np\n",
    "import pandas as pd\n",
    "import re\n",
    "\n",
    "from mpl_toolkits.mplot3d import Axes3D\n",
    "import matplotlib.pyplot as plt\n",
    "import pandas as pd\n",
    "import seaborn as sns\n",
    "\n",
    "import time\n",
    "from functools import wraps\n",
    "\n",
    "from scipy import stats\n",
    "\n",
    "from sklearn.cluster import KMeans, DBSCAN\n",
    "from sklearn.cluster import k_means_\n",
    "\n",
    "from sklearn.metrics.pairwise import euclidean_distances, cosine_similarity, cosine_distances\n",
    "\n",
    "from sklearn.decomposition import PCA\n",
    "\n",
    "from sklearn.model_selection import learning_curve\n",
    "from sklearn.preprocessing import StandardScaler  # For scaling dataset\n",
    "from sklearn.metrics import silhouette_score\n",
    "import seaborn as sns; sns.set(style=\"ticks\", color_codes=True)"
   ]
  },
  {
   "cell_type": "markdown",
   "metadata": {},
   "source": [
    "# Resumo\n",
    "\n",
    "O objetivo deste notbook é executar o trablho da disciplina de Data Mining I. O enunciado pedia que:\n",
    "\n",
    "* Encontrássemos clusters de filmes semelhantes usando as notas dadas pelos usuários como features do modelo.\n",
    "* Para lidar com o grande número de dimensões dos vetores de features, deveríamos usar uma transformada PCA para reduzir a dimensão do prodlema.\n",
    "* Utilizar os algoritmos: KMeans e DBScan para gerar os clusters\n",
    "\n",
    "A bases de 100k e 1M já haviam sido tratadas no trabalho anterior, por isso nenhum pré-processamento de limpeza dos dados foi feito. A ordem do Notebbok, seguiu o processo de experimentação realmente executado. Caso apenas as conclusões sejam de interesse, a sessão de conclusão resume o que foi encontrado."
   ]
  },
  {
   "cell_type": "markdown",
   "metadata": {},
   "source": [
    "# Importando o dataset\n",
    "\n",
    "dataset depois do tratamento feito para a análise de Market Basket. "
   ]
  },
  {
   "cell_type": "code",
   "execution_count": 779,
   "metadata": {},
   "outputs": [],
   "source": [
    "ratingsDF = pd.read_pickle(\"..\\\\ProcessedData\\\\df.pkl\")"
   ]
  },
  {
   "cell_type": "code",
   "execution_count": 780,
   "metadata": {},
   "outputs": [
    {
     "data": {
      "text/html": [
       "<div>\n",
       "<style scoped>\n",
       "    .dataframe tbody tr th:only-of-type {\n",
       "        vertical-align: middle;\n",
       "    }\n",
       "\n",
       "    .dataframe tbody tr th {\n",
       "        vertical-align: top;\n",
       "    }\n",
       "\n",
       "    .dataframe thead th {\n",
       "        text-align: right;\n",
       "    }\n",
       "</style>\n",
       "<table border=\"1\" class=\"dataframe\">\n",
       "  <thead>\n",
       "    <tr style=\"text-align: right;\">\n",
       "      <th></th>\n",
       "      <th>uid</th>\n",
       "      <th>id</th>\n",
       "      <th>rating</th>\n",
       "      <th>timestamp</th>\n",
       "      <th>movie_title</th>\n",
       "      <th>release_date</th>\n",
       "      <th>IMDb_URL</th>\n",
       "      <th>unknown</th>\n",
       "      <th>Action</th>\n",
       "      <th>Adventure</th>\n",
       "      <th>...</th>\n",
       "      <th>Fantasy</th>\n",
       "      <th>Film-Noir</th>\n",
       "      <th>Horror</th>\n",
       "      <th>Musical</th>\n",
       "      <th>Mystery</th>\n",
       "      <th>Romance</th>\n",
       "      <th>Sci-Fi</th>\n",
       "      <th>Thriller</th>\n",
       "      <th>War</th>\n",
       "      <th>Western</th>\n",
       "    </tr>\n",
       "  </thead>\n",
       "  <tbody>\n",
       "    <tr>\n",
       "      <th>0</th>\n",
       "      <td>196</td>\n",
       "      <td>242</td>\n",
       "      <td>3</td>\n",
       "      <td>1997-12-04 15:55:49</td>\n",
       "      <td>Kolya (1996)</td>\n",
       "      <td>1997-01-24</td>\n",
       "      <td>http://us.imdb.com/M/title-exact?Kolya%20(1996)</td>\n",
       "      <td>0</td>\n",
       "      <td>0</td>\n",
       "      <td>0</td>\n",
       "      <td>...</td>\n",
       "      <td>0</td>\n",
       "      <td>0</td>\n",
       "      <td>0</td>\n",
       "      <td>0</td>\n",
       "      <td>0</td>\n",
       "      <td>0</td>\n",
       "      <td>0</td>\n",
       "      <td>0</td>\n",
       "      <td>0</td>\n",
       "      <td>0</td>\n",
       "    </tr>\n",
       "    <tr>\n",
       "      <th>1</th>\n",
       "      <td>63</td>\n",
       "      <td>242</td>\n",
       "      <td>3</td>\n",
       "      <td>1997-10-01 23:06:30</td>\n",
       "      <td>Kolya (1996)</td>\n",
       "      <td>1997-01-24</td>\n",
       "      <td>http://us.imdb.com/M/title-exact?Kolya%20(1996)</td>\n",
       "      <td>0</td>\n",
       "      <td>0</td>\n",
       "      <td>0</td>\n",
       "      <td>...</td>\n",
       "      <td>0</td>\n",
       "      <td>0</td>\n",
       "      <td>0</td>\n",
       "      <td>0</td>\n",
       "      <td>0</td>\n",
       "      <td>0</td>\n",
       "      <td>0</td>\n",
       "      <td>0</td>\n",
       "      <td>0</td>\n",
       "      <td>0</td>\n",
       "    </tr>\n",
       "    <tr>\n",
       "      <th>2</th>\n",
       "      <td>226</td>\n",
       "      <td>242</td>\n",
       "      <td>5</td>\n",
       "      <td>1998-01-04 04:37:51</td>\n",
       "      <td>Kolya (1996)</td>\n",
       "      <td>1997-01-24</td>\n",
       "      <td>http://us.imdb.com/M/title-exact?Kolya%20(1996)</td>\n",
       "      <td>0</td>\n",
       "      <td>0</td>\n",
       "      <td>0</td>\n",
       "      <td>...</td>\n",
       "      <td>0</td>\n",
       "      <td>0</td>\n",
       "      <td>0</td>\n",
       "      <td>0</td>\n",
       "      <td>0</td>\n",
       "      <td>0</td>\n",
       "      <td>0</td>\n",
       "      <td>0</td>\n",
       "      <td>0</td>\n",
       "      <td>0</td>\n",
       "    </tr>\n",
       "    <tr>\n",
       "      <th>3</th>\n",
       "      <td>154</td>\n",
       "      <td>242</td>\n",
       "      <td>3</td>\n",
       "      <td>1997-11-10 05:03:55</td>\n",
       "      <td>Kolya (1996)</td>\n",
       "      <td>1997-01-24</td>\n",
       "      <td>http://us.imdb.com/M/title-exact?Kolya%20(1996)</td>\n",
       "      <td>0</td>\n",
       "      <td>0</td>\n",
       "      <td>0</td>\n",
       "      <td>...</td>\n",
       "      <td>0</td>\n",
       "      <td>0</td>\n",
       "      <td>0</td>\n",
       "      <td>0</td>\n",
       "      <td>0</td>\n",
       "      <td>0</td>\n",
       "      <td>0</td>\n",
       "      <td>0</td>\n",
       "      <td>0</td>\n",
       "      <td>0</td>\n",
       "    </tr>\n",
       "    <tr>\n",
       "      <th>4</th>\n",
       "      <td>306</td>\n",
       "      <td>242</td>\n",
       "      <td>5</td>\n",
       "      <td>1997-10-10 17:16:33</td>\n",
       "      <td>Kolya (1996)</td>\n",
       "      <td>1997-01-24</td>\n",
       "      <td>http://us.imdb.com/M/title-exact?Kolya%20(1996)</td>\n",
       "      <td>0</td>\n",
       "      <td>0</td>\n",
       "      <td>0</td>\n",
       "      <td>...</td>\n",
       "      <td>0</td>\n",
       "      <td>0</td>\n",
       "      <td>0</td>\n",
       "      <td>0</td>\n",
       "      <td>0</td>\n",
       "      <td>0</td>\n",
       "      <td>0</td>\n",
       "      <td>0</td>\n",
       "      <td>0</td>\n",
       "      <td>0</td>\n",
       "    </tr>\n",
       "  </tbody>\n",
       "</table>\n",
       "<p>5 rows × 26 columns</p>\n",
       "</div>"
      ],
      "text/plain": [
       "   uid   id rating           timestamp   movie_title release_date  \\\n",
       "0  196  242      3 1997-12-04 15:55:49  Kolya (1996)   1997-01-24   \n",
       "1   63  242      3 1997-10-01 23:06:30  Kolya (1996)   1997-01-24   \n",
       "2  226  242      5 1998-01-04 04:37:51  Kolya (1996)   1997-01-24   \n",
       "3  154  242      3 1997-11-10 05:03:55  Kolya (1996)   1997-01-24   \n",
       "4  306  242      5 1997-10-10 17:16:33  Kolya (1996)   1997-01-24   \n",
       "\n",
       "                                          IMDb_URL unknown Action Adventure  \\\n",
       "0  http://us.imdb.com/M/title-exact?Kolya%20(1996)       0      0         0   \n",
       "1  http://us.imdb.com/M/title-exact?Kolya%20(1996)       0      0         0   \n",
       "2  http://us.imdb.com/M/title-exact?Kolya%20(1996)       0      0         0   \n",
       "3  http://us.imdb.com/M/title-exact?Kolya%20(1996)       0      0         0   \n",
       "4  http://us.imdb.com/M/title-exact?Kolya%20(1996)       0      0         0   \n",
       "\n",
       "    ...   Fantasy Film-Noir Horror Musical Mystery Romance Sci-Fi Thriller  \\\n",
       "0   ...         0         0      0       0       0       0      0        0   \n",
       "1   ...         0         0      0       0       0       0      0        0   \n",
       "2   ...         0         0      0       0       0       0      0        0   \n",
       "3   ...         0         0      0       0       0       0      0        0   \n",
       "4   ...         0         0      0       0       0       0      0        0   \n",
       "\n",
       "  War Western  \n",
       "0   0       0  \n",
       "1   0       0  \n",
       "2   0       0  \n",
       "3   0       0  \n",
       "4   0       0  \n",
       "\n",
       "[5 rows x 26 columns]"
      ]
     },
     "execution_count": 780,
     "metadata": {},
     "output_type": "execute_result"
    }
   ],
   "source": [
    "ratingsDF.head()"
   ]
  },
  {
   "cell_type": "code",
   "execution_count": 781,
   "metadata": {},
   "outputs": [
    {
     "name": "stdout",
     "output_type": "stream",
     "text": [
      "Número de usuários na base 943\n"
     ]
    }
   ],
   "source": [
    "print(\"Número de usuários na base %i\" % ratingsDF['uid'].nunique())"
   ]
  },
  {
   "cell_type": "code",
   "execution_count": 782,
   "metadata": {},
   "outputs": [
    {
     "name": "stdout",
     "output_type": "stream",
     "text": [
      "Número de filmes na base 1664\n"
     ]
    }
   ],
   "source": [
    "print(\"Número de filmes na base %i\" % ratingsDF['id'].nunique())"
   ]
  },
  {
   "cell_type": "markdown",
   "metadata": {},
   "source": [
    "## Criando os vetores de features dos filmes\n",
    "\n",
    "Cada filme será representado pelas notas que cada um dos usuários da base deu para aquele filme. O que siginifica que **cada filme será representado por vetores esparsos de tamanho 943**.\n",
    "\n",
    "Sabemos da exploração que não há duplicatas para a chave **uid, id**, então:"
   ]
  },
  {
   "cell_type": "code",
   "execution_count": 783,
   "metadata": {},
   "outputs": [],
   "source": [
    "ratings_id = ratingsDF.groupby(['id']).aggregate({'rating': len})"
   ]
  },
  {
   "cell_type": "code",
   "execution_count": 784,
   "metadata": {},
   "outputs": [
    {
     "data": {
      "image/png": "[encoded data removed]",
      "text/plain": [
       "<Figure size 792x504 with 2 Axes>"
      ]
     },
     "metadata": {},
     "output_type": "display_data"
    }
   ],
   "source": [
    "plt.figure(),\n",
    "plt.subplot(1,2,1)\n",
    "ratings_id.rating.hist()\n",
    "plt.grid(True)\n",
    "plt.title(\"#usuários que viram o filme\")\n",
    "plt.xlabel(\"uid\")\n",
    "plt.ylabel(\"freq absoluta\")\n",
    "\n",
    "plt.subplot(1,2,2)\n",
    "ratings_id.boxplot()\n",
    "plt.title(\"Boxplot que viram o filme\")\n",
    "plt.rcParams['figure.figsize'] = (11,7)\n",
    "plt.show()"
   ]
  },
  {
   "cell_type": "code",
   "execution_count": 785,
   "metadata": {},
   "outputs": [
    {
     "name": "stdout",
     "output_type": "stream",
     "text": [
      "Moda do número de usuários que viram o filme: 1\n",
      "Média do número de usuários que viram o filme: 59\n"
     ]
    }
   ],
   "source": [
    "print(\"Moda do número de usuários que viram o filme: %i\" % ratings_id.rating.mode())\n",
    "print(\"Média do número de usuários que viram o filme: %i\" % ratings_id.rating.mean())"
   ]
  },
  {
   "cell_type": "code",
   "execution_count": 786,
   "metadata": {},
   "outputs": [
    {
     "name": "stdout",
     "output_type": "stream",
     "text": [
      "Número de filmes com apenas uma avaliação: 135\n"
     ]
    }
   ],
   "source": [
    "print(\"Número de filmes com apenas uma avaliação: %i\" % (ratings_id.rating == 1).sum())"
   ]
  },
  {
   "cell_type": "markdown",
   "metadata": {},
   "source": [
    "## Filmes mais vistos\n",
    "\n",
    "Para depois achar quais so clusters dos filmes mais populares. Vou definer como sendo um filme muito visto aquele com mais de 150 usuários damdp mota diferente de 0"
   ]
  },
  {
   "cell_type": "code",
   "execution_count": 787,
   "metadata": {},
   "outputs": [],
   "source": [
    "popular_film = (ratings_id.rating > 150)"
   ]
  },
  {
   "cell_type": "code",
   "execution_count": 788,
   "metadata": {},
   "outputs": [
    {
     "name": "stdout",
     "output_type": "stream",
     "text": [
      "número de filmes populares 202\n"
     ]
    }
   ],
   "source": [
    "print(\"número de filmes populares %i\" % popular_film.sum())"
   ]
  },
  {
   "cell_type": "code",
   "execution_count": 789,
   "metadata": {},
   "outputs": [],
   "source": [
    "popular_ids = popular_film[popular_film]"
   ]
  },
  {
   "cell_type": "markdown",
   "metadata": {},
   "source": [
    "abaixo uma amostra das notas dadas aos filmes populares"
   ]
  },
  {
   "cell_type": "code",
   "execution_count": 790,
   "metadata": {},
   "outputs": [
    {
     "data": {
      "text/html": [
       "<div>\n",
       "<style scoped>\n",
       "    .dataframe tbody tr th:only-of-type {\n",
       "        vertical-align: middle;\n",
       "    }\n",
       "\n",
       "    .dataframe tbody tr th {\n",
       "        vertical-align: top;\n",
       "    }\n",
       "\n",
       "    .dataframe thead th {\n",
       "        text-align: right;\n",
       "    }\n",
       "</style>\n",
       "<table border=\"1\" class=\"dataframe\">\n",
       "  <thead>\n",
       "    <tr style=\"text-align: right;\">\n",
       "      <th></th>\n",
       "      <th>uid</th>\n",
       "      <th>id</th>\n",
       "      <th>rating</th>\n",
       "      <th>timestamp</th>\n",
       "      <th>movie_title</th>\n",
       "      <th>release_date</th>\n",
       "      <th>IMDb_URL</th>\n",
       "      <th>unknown</th>\n",
       "      <th>Action</th>\n",
       "      <th>Adventure</th>\n",
       "      <th>...</th>\n",
       "      <th>Fantasy</th>\n",
       "      <th>Film-Noir</th>\n",
       "      <th>Horror</th>\n",
       "      <th>Musical</th>\n",
       "      <th>Mystery</th>\n",
       "      <th>Romance</th>\n",
       "      <th>Sci-Fi</th>\n",
       "      <th>Thriller</th>\n",
       "      <th>War</th>\n",
       "      <th>Western</th>\n",
       "    </tr>\n",
       "  </thead>\n",
       "  <tbody>\n",
       "    <tr>\n",
       "      <th>76166</th>\n",
       "      <td>193</td>\n",
       "      <td>282</td>\n",
       "      <td>5</td>\n",
       "      <td>1998-03-05 19:09:25</td>\n",
       "      <td>Time to Kill, A (1996)</td>\n",
       "      <td>1996-07-13</td>\n",
       "      <td>http://us.imdb.com/M/title-exact?Time%20to%20K...</td>\n",
       "      <td>0</td>\n",
       "      <td>0</td>\n",
       "      <td>0</td>\n",
       "      <td>...</td>\n",
       "      <td>0</td>\n",
       "      <td>0</td>\n",
       "      <td>0</td>\n",
       "      <td>0</td>\n",
       "      <td>0</td>\n",
       "      <td>0</td>\n",
       "      <td>0</td>\n",
       "      <td>0</td>\n",
       "      <td>0</td>\n",
       "      <td>0</td>\n",
       "    </tr>\n",
       "    <tr>\n",
       "      <th>62702</th>\n",
       "      <td>788</td>\n",
       "      <td>230</td>\n",
       "      <td>3</td>\n",
       "      <td>1997-11-30 06:02:34</td>\n",
       "      <td>Star Trek IV: The Voyage Home (1986)</td>\n",
       "      <td>1986-01-01</td>\n",
       "      <td>http://us.imdb.com/M/title-exact?Star%20Trek%2...</td>\n",
       "      <td>0</td>\n",
       "      <td>1</td>\n",
       "      <td>1</td>\n",
       "      <td>...</td>\n",
       "      <td>0</td>\n",
       "      <td>0</td>\n",
       "      <td>0</td>\n",
       "      <td>0</td>\n",
       "      <td>0</td>\n",
       "      <td>0</td>\n",
       "      <td>1</td>\n",
       "      <td>0</td>\n",
       "      <td>0</td>\n",
       "      <td>0</td>\n",
       "    </tr>\n",
       "    <tr>\n",
       "      <th>51056</th>\n",
       "      <td>182</td>\n",
       "      <td>50</td>\n",
       "      <td>5</td>\n",
       "      <td>1998-01-24 03:36:58</td>\n",
       "      <td>Star Wars (1977)</td>\n",
       "      <td>1977-01-01</td>\n",
       "      <td>http://us.imdb.com/M/title-exact?Star%20Wars%2...</td>\n",
       "      <td>0</td>\n",
       "      <td>1</td>\n",
       "      <td>1</td>\n",
       "      <td>...</td>\n",
       "      <td>0</td>\n",
       "      <td>0</td>\n",
       "      <td>0</td>\n",
       "      <td>0</td>\n",
       "      <td>0</td>\n",
       "      <td>1</td>\n",
       "      <td>1</td>\n",
       "      <td>0</td>\n",
       "      <td>1</td>\n",
       "      <td>0</td>\n",
       "    </tr>\n",
       "    <tr>\n",
       "      <th>76697</th>\n",
       "      <td>113</td>\n",
       "      <td>300</td>\n",
       "      <td>3</td>\n",
       "      <td>1997-09-24 04:38:07</td>\n",
       "      <td>Air Force One (1997)</td>\n",
       "      <td>1997-01-01</td>\n",
       "      <td>http://us.imdb.com/M/title-exact?Air+Force+One...</td>\n",
       "      <td>0</td>\n",
       "      <td>1</td>\n",
       "      <td>0</td>\n",
       "      <td>...</td>\n",
       "      <td>0</td>\n",
       "      <td>0</td>\n",
       "      <td>0</td>\n",
       "      <td>0</td>\n",
       "      <td>0</td>\n",
       "      <td>0</td>\n",
       "      <td>0</td>\n",
       "      <td>1</td>\n",
       "      <td>0</td>\n",
       "      <td>0</td>\n",
       "    </tr>\n",
       "    <tr>\n",
       "      <th>30038</th>\n",
       "      <td>910</td>\n",
       "      <td>127</td>\n",
       "      <td>5</td>\n",
       "      <td>1997-11-29 16:47:40</td>\n",
       "      <td>Godfather, The (1972)</td>\n",
       "      <td>1972-01-01</td>\n",
       "      <td>http://us.imdb.com/M/title-exact?Godfather,%20...</td>\n",
       "      <td>0</td>\n",
       "      <td>1</td>\n",
       "      <td>0</td>\n",
       "      <td>...</td>\n",
       "      <td>0</td>\n",
       "      <td>0</td>\n",
       "      <td>0</td>\n",
       "      <td>0</td>\n",
       "      <td>0</td>\n",
       "      <td>0</td>\n",
       "      <td>0</td>\n",
       "      <td>0</td>\n",
       "      <td>0</td>\n",
       "      <td>0</td>\n",
       "    </tr>\n",
       "    <tr>\n",
       "      <th>8309</th>\n",
       "      <td>791</td>\n",
       "      <td>322</td>\n",
       "      <td>4</td>\n",
       "      <td>1997-11-13 19:08:48</td>\n",
       "      <td>Murder at 1600 (1997)</td>\n",
       "      <td>1997-04-18</td>\n",
       "      <td>http://us.imdb.com/M/title-exact?Murder%20at%2...</td>\n",
       "      <td>0</td>\n",
       "      <td>0</td>\n",
       "      <td>0</td>\n",
       "      <td>...</td>\n",
       "      <td>0</td>\n",
       "      <td>0</td>\n",
       "      <td>0</td>\n",
       "      <td>0</td>\n",
       "      <td>1</td>\n",
       "      <td>0</td>\n",
       "      <td>0</td>\n",
       "      <td>1</td>\n",
       "      <td>0</td>\n",
       "      <td>0</td>\n",
       "    </tr>\n",
       "    <tr>\n",
       "      <th>25343</th>\n",
       "      <td>79</td>\n",
       "      <td>258</td>\n",
       "      <td>5</td>\n",
       "      <td>1998-03-30 15:21:48</td>\n",
       "      <td>Contact (1997)</td>\n",
       "      <td>1997-07-11</td>\n",
       "      <td>http://us.imdb.com/Title?Contact+(1997/I)</td>\n",
       "      <td>0</td>\n",
       "      <td>0</td>\n",
       "      <td>0</td>\n",
       "      <td>...</td>\n",
       "      <td>0</td>\n",
       "      <td>0</td>\n",
       "      <td>0</td>\n",
       "      <td>0</td>\n",
       "      <td>0</td>\n",
       "      <td>0</td>\n",
       "      <td>1</td>\n",
       "      <td>0</td>\n",
       "      <td>0</td>\n",
       "      <td>0</td>\n",
       "    </tr>\n",
       "    <tr>\n",
       "      <th>67664</th>\n",
       "      <td>184</td>\n",
       "      <td>393</td>\n",
       "      <td>4</td>\n",
       "      <td>1998-03-14 21:09:48</td>\n",
       "      <td>Mrs. Doubtfire (1993)</td>\n",
       "      <td>1993-01-01</td>\n",
       "      <td>http://us.imdb.com/M/title-exact?Mrs.%20Doubtf...</td>\n",
       "      <td>0</td>\n",
       "      <td>0</td>\n",
       "      <td>0</td>\n",
       "      <td>...</td>\n",
       "      <td>0</td>\n",
       "      <td>0</td>\n",
       "      <td>0</td>\n",
       "      <td>0</td>\n",
       "      <td>0</td>\n",
       "      <td>0</td>\n",
       "      <td>0</td>\n",
       "      <td>0</td>\n",
       "      <td>0</td>\n",
       "      <td>0</td>\n",
       "    </tr>\n",
       "    <tr>\n",
       "      <th>16002</th>\n",
       "      <td>508</td>\n",
       "      <td>208</td>\n",
       "      <td>5</td>\n",
       "      <td>1998-01-02 21:32:28</td>\n",
       "      <td>Young Frankenstein (1974)</td>\n",
       "      <td>1974-01-01</td>\n",
       "      <td>http://us.imdb.com/M/title-exact?Young%20Frank...</td>\n",
       "      <td>0</td>\n",
       "      <td>0</td>\n",
       "      <td>0</td>\n",
       "      <td>...</td>\n",
       "      <td>0</td>\n",
       "      <td>0</td>\n",
       "      <td>1</td>\n",
       "      <td>0</td>\n",
       "      <td>0</td>\n",
       "      <td>0</td>\n",
       "      <td>0</td>\n",
       "      <td>0</td>\n",
       "      <td>0</td>\n",
       "      <td>0</td>\n",
       "    </tr>\n",
       "    <tr>\n",
       "      <th>11156</th>\n",
       "      <td>230</td>\n",
       "      <td>427</td>\n",
       "      <td>5</td>\n",
       "      <td>1997-11-25 19:01:41</td>\n",
       "      <td>To Kill a Mockingbird (1962)</td>\n",
       "      <td>1962-01-01</td>\n",
       "      <td>http://us.imdb.com/M/title-exact?To%20Kill%20a...</td>\n",
       "      <td>0</td>\n",
       "      <td>0</td>\n",
       "      <td>0</td>\n",
       "      <td>...</td>\n",
       "      <td>0</td>\n",
       "      <td>0</td>\n",
       "      <td>0</td>\n",
       "      <td>0</td>\n",
       "      <td>0</td>\n",
       "      <td>0</td>\n",
       "      <td>0</td>\n",
       "      <td>0</td>\n",
       "      <td>0</td>\n",
       "      <td>0</td>\n",
       "    </tr>\n",
       "  </tbody>\n",
       "</table>\n",
       "<p>10 rows × 26 columns</p>\n",
       "</div>"
      ],
      "text/plain": [
       "       uid   id rating           timestamp  \\\n",
       "76166  193  282      5 1998-03-05 19:09:25   \n",
       "62702  788  230      3 1997-11-30 06:02:34   \n",
       "51056  182   50      5 1998-01-24 03:36:58   \n",
       "76697  113  300      3 1997-09-24 04:38:07   \n",
       "30038  910  127      5 1997-11-29 16:47:40   \n",
       "8309   791  322      4 1997-11-13 19:08:48   \n",
       "25343   79  258      5 1998-03-30 15:21:48   \n",
       "67664  184  393      4 1998-03-14 21:09:48   \n",
       "16002  508  208      5 1998-01-02 21:32:28   \n",
       "11156  230  427      5 1997-11-25 19:01:41   \n",
       "\n",
       "                                movie_title release_date  \\\n",
       "76166                Time to Kill, A (1996)   1996-07-13   \n",
       "62702  Star Trek IV: The Voyage Home (1986)   1986-01-01   \n",
       "51056                      Star Wars (1977)   1977-01-01   \n",
       "76697                  Air Force One (1997)   1997-01-01   \n",
       "30038                 Godfather, The (1972)   1972-01-01   \n",
       "8309                  Murder at 1600 (1997)   1997-04-18   \n",
       "25343                        Contact (1997)   1997-07-11   \n",
       "67664                 Mrs. Doubtfire (1993)   1993-01-01   \n",
       "16002             Young Frankenstein (1974)   1974-01-01   \n",
       "11156          To Kill a Mockingbird (1962)   1962-01-01   \n",
       "\n",
       "                                                IMDb_URL unknown Action  \\\n",
       "76166  http://us.imdb.com/M/title-exact?Time%20to%20K...       0      0   \n",
       "62702  http://us.imdb.com/M/title-exact?Star%20Trek%2...       0      1   \n",
       "51056  http://us.imdb.com/M/title-exact?Star%20Wars%2...       0      1   \n",
       "76697  http://us.imdb.com/M/title-exact?Air+Force+One...       0      1   \n",
       "30038  http://us.imdb.com/M/title-exact?Godfather,%20...       0      1   \n",
       "8309   http://us.imdb.com/M/title-exact?Murder%20at%2...       0      0   \n",
       "25343          http://us.imdb.com/Title?Contact+(1997/I)       0      0   \n",
       "67664  http://us.imdb.com/M/title-exact?Mrs.%20Doubtf...       0      0   \n",
       "16002  http://us.imdb.com/M/title-exact?Young%20Frank...       0      0   \n",
       "11156  http://us.imdb.com/M/title-exact?To%20Kill%20a...       0      0   \n",
       "\n",
       "      Adventure   ...   Fantasy Film-Noir Horror Musical Mystery Romance  \\\n",
       "76166         0   ...         0         0      0       0       0       0   \n",
       "62702         1   ...         0         0      0       0       0       0   \n",
       "51056         1   ...         0         0      0       0       0       1   \n",
       "76697         0   ...         0         0      0       0       0       0   \n",
       "30038         0   ...         0         0      0       0       0       0   \n",
       "8309          0   ...         0         0      0       0       1       0   \n",
       "25343         0   ...         0         0      0       0       0       0   \n",
       "67664         0   ...         0         0      0       0       0       0   \n",
       "16002         0   ...         0         0      1       0       0       0   \n",
       "11156         0   ...         0         0      0       0       0       0   \n",
       "\n",
       "      Sci-Fi Thriller War Western  \n",
       "76166      0        0   0       0  \n",
       "62702      1        0   0       0  \n",
       "51056      1        0   1       0  \n",
       "76697      0        1   0       0  \n",
       "30038      0        0   0       0  \n",
       "8309       0        1   0       0  \n",
       "25343      1        0   0       0  \n",
       "67664      0        0   0       0  \n",
       "16002      0        0   0       0  \n",
       "11156      0        0   0       0  \n",
       "\n",
       "[10 rows x 26 columns]"
      ]
     },
     "execution_count": 790,
     "metadata": {},
     "output_type": "execute_result"
    }
   ],
   "source": [
    "ratingsDF[ratingsDF['id'].isin(popular_ids.index)].sample(10)"
   ]
  },
  {
   "cell_type": "markdown",
   "metadata": {},
   "source": [
    "# Criando a versão pivoteada do dataset"
   ]
  },
  {
   "cell_type": "code",
   "execution_count": 791,
   "metadata": {},
   "outputs": [],
   "source": [
    "def collapse_columns(df):\n",
    "    df = df.copy()\n",
    "    if isinstance(df.columns, pd.MultiIndex):\n",
    "        df.columns = df.columns.to_series().str.join('')\n",
    "    return df"
   ]
  },
  {
   "cell_type": "code",
   "execution_count": 792,
   "metadata": {},
   "outputs": [
    {
     "name": "stdout",
     "output_type": "stream",
     "text": [
      "Wall time: 1min 16s\n"
     ]
    }
   ],
   "source": [
    "%%time\n",
    "df_pivoted = pd.pivot_table(ratingsDF, columns=['uid'], values=['rating'], index=['id'], aggfunc=np.max)"
   ]
  },
  {
   "cell_type": "code",
   "execution_count": 793,
   "metadata": {},
   "outputs": [],
   "source": [
    "# df_pivoted.fillna(0, inplace=True)"
   ]
  },
  {
   "cell_type": "code",
   "execution_count": 794,
   "metadata": {},
   "outputs": [],
   "source": [
    "df_flattern = df_pivoted.copy()\n",
    "df_flattern.columns = df_pivoted.columns.get_level_values(1)"
   ]
  },
  {
   "cell_type": "code",
   "execution_count": 795,
   "metadata": {},
   "outputs": [
    {
     "data": {
      "text/html": [
       "<div>\n",
       "<style scoped>\n",
       "    .dataframe tbody tr th:only-of-type {\n",
       "        vertical-align: middle;\n",
       "    }\n",
       "\n",
       "    .dataframe tbody tr th {\n",
       "        vertical-align: top;\n",
       "    }\n",
       "\n",
       "    .dataframe thead th {\n",
       "        text-align: right;\n",
       "    }\n",
       "</style>\n",
       "<table border=\"1\" class=\"dataframe\">\n",
       "  <thead>\n",
       "    <tr style=\"text-align: right;\">\n",
       "      <th>uid</th>\n",
       "      <th>1</th>\n",
       "      <th>2</th>\n",
       "      <th>3</th>\n",
       "      <th>4</th>\n",
       "      <th>5</th>\n",
       "      <th>6</th>\n",
       "      <th>7</th>\n",
       "      <th>8</th>\n",
       "      <th>9</th>\n",
       "      <th>10</th>\n",
       "      <th>...</th>\n",
       "      <th>934</th>\n",
       "      <th>935</th>\n",
       "      <th>936</th>\n",
       "      <th>937</th>\n",
       "      <th>938</th>\n",
       "      <th>939</th>\n",
       "      <th>940</th>\n",
       "      <th>941</th>\n",
       "      <th>942</th>\n",
       "      <th>943</th>\n",
       "    </tr>\n",
       "    <tr>\n",
       "      <th>id</th>\n",
       "      <th></th>\n",
       "      <th></th>\n",
       "      <th></th>\n",
       "      <th></th>\n",
       "      <th></th>\n",
       "      <th></th>\n",
       "      <th></th>\n",
       "      <th></th>\n",
       "      <th></th>\n",
       "      <th></th>\n",
       "      <th></th>\n",
       "      <th></th>\n",
       "      <th></th>\n",
       "      <th></th>\n",
       "      <th></th>\n",
       "      <th></th>\n",
       "      <th></th>\n",
       "      <th></th>\n",
       "      <th></th>\n",
       "      <th></th>\n",
       "      <th></th>\n",
       "    </tr>\n",
       "  </thead>\n",
       "  <tbody>\n",
       "    <tr>\n",
       "      <th>1</th>\n",
       "      <td>5.0</td>\n",
       "      <td>4.0</td>\n",
       "      <td>NaN</td>\n",
       "      <td>NaN</td>\n",
       "      <td>4.0</td>\n",
       "      <td>4.0</td>\n",
       "      <td>NaN</td>\n",
       "      <td>NaN</td>\n",
       "      <td>NaN</td>\n",
       "      <td>4.0</td>\n",
       "      <td>...</td>\n",
       "      <td>2.0</td>\n",
       "      <td>3.0</td>\n",
       "      <td>4.0</td>\n",
       "      <td>NaN</td>\n",
       "      <td>4.0</td>\n",
       "      <td>NaN</td>\n",
       "      <td>NaN</td>\n",
       "      <td>5.0</td>\n",
       "      <td>NaN</td>\n",
       "      <td>NaN</td>\n",
       "    </tr>\n",
       "    <tr>\n",
       "      <th>2</th>\n",
       "      <td>3.0</td>\n",
       "      <td>NaN</td>\n",
       "      <td>NaN</td>\n",
       "      <td>NaN</td>\n",
       "      <td>3.0</td>\n",
       "      <td>NaN</td>\n",
       "      <td>NaN</td>\n",
       "      <td>NaN</td>\n",
       "      <td>NaN</td>\n",
       "      <td>NaN</td>\n",
       "      <td>...</td>\n",
       "      <td>4.0</td>\n",
       "      <td>NaN</td>\n",
       "      <td>NaN</td>\n",
       "      <td>NaN</td>\n",
       "      <td>NaN</td>\n",
       "      <td>NaN</td>\n",
       "      <td>NaN</td>\n",
       "      <td>NaN</td>\n",
       "      <td>NaN</td>\n",
       "      <td>5.0</td>\n",
       "    </tr>\n",
       "    <tr>\n",
       "      <th>3</th>\n",
       "      <td>4.0</td>\n",
       "      <td>NaN</td>\n",
       "      <td>NaN</td>\n",
       "      <td>NaN</td>\n",
       "      <td>NaN</td>\n",
       "      <td>NaN</td>\n",
       "      <td>NaN</td>\n",
       "      <td>NaN</td>\n",
       "      <td>NaN</td>\n",
       "      <td>NaN</td>\n",
       "      <td>...</td>\n",
       "      <td>NaN</td>\n",
       "      <td>NaN</td>\n",
       "      <td>4.0</td>\n",
       "      <td>NaN</td>\n",
       "      <td>NaN</td>\n",
       "      <td>NaN</td>\n",
       "      <td>NaN</td>\n",
       "      <td>NaN</td>\n",
       "      <td>NaN</td>\n",
       "      <td>NaN</td>\n",
       "    </tr>\n",
       "    <tr>\n",
       "      <th>4</th>\n",
       "      <td>3.0</td>\n",
       "      <td>NaN</td>\n",
       "      <td>NaN</td>\n",
       "      <td>NaN</td>\n",
       "      <td>NaN</td>\n",
       "      <td>NaN</td>\n",
       "      <td>5.0</td>\n",
       "      <td>NaN</td>\n",
       "      <td>NaN</td>\n",
       "      <td>4.0</td>\n",
       "      <td>...</td>\n",
       "      <td>5.0</td>\n",
       "      <td>NaN</td>\n",
       "      <td>NaN</td>\n",
       "      <td>NaN</td>\n",
       "      <td>NaN</td>\n",
       "      <td>NaN</td>\n",
       "      <td>2.0</td>\n",
       "      <td>NaN</td>\n",
       "      <td>NaN</td>\n",
       "      <td>NaN</td>\n",
       "    </tr>\n",
       "    <tr>\n",
       "      <th>5</th>\n",
       "      <td>3.0</td>\n",
       "      <td>NaN</td>\n",
       "      <td>NaN</td>\n",
       "      <td>NaN</td>\n",
       "      <td>NaN</td>\n",
       "      <td>NaN</td>\n",
       "      <td>NaN</td>\n",
       "      <td>NaN</td>\n",
       "      <td>NaN</td>\n",
       "      <td>NaN</td>\n",
       "      <td>...</td>\n",
       "      <td>NaN</td>\n",
       "      <td>NaN</td>\n",
       "      <td>NaN</td>\n",
       "      <td>NaN</td>\n",
       "      <td>NaN</td>\n",
       "      <td>NaN</td>\n",
       "      <td>NaN</td>\n",
       "      <td>NaN</td>\n",
       "      <td>NaN</td>\n",
       "      <td>NaN</td>\n",
       "    </tr>\n",
       "    <tr>\n",
       "      <th>6</th>\n",
       "      <td>5.0</td>\n",
       "      <td>NaN</td>\n",
       "      <td>NaN</td>\n",
       "      <td>NaN</td>\n",
       "      <td>NaN</td>\n",
       "      <td>NaN</td>\n",
       "      <td>NaN</td>\n",
       "      <td>NaN</td>\n",
       "      <td>5.0</td>\n",
       "      <td>NaN</td>\n",
       "      <td>...</td>\n",
       "      <td>NaN</td>\n",
       "      <td>NaN</td>\n",
       "      <td>5.0</td>\n",
       "      <td>NaN</td>\n",
       "      <td>NaN</td>\n",
       "      <td>NaN</td>\n",
       "      <td>NaN</td>\n",
       "      <td>NaN</td>\n",
       "      <td>NaN</td>\n",
       "      <td>NaN</td>\n",
       "    </tr>\n",
       "    <tr>\n",
       "      <th>7</th>\n",
       "      <td>4.0</td>\n",
       "      <td>NaN</td>\n",
       "      <td>NaN</td>\n",
       "      <td>NaN</td>\n",
       "      <td>NaN</td>\n",
       "      <td>2.0</td>\n",
       "      <td>5.0</td>\n",
       "      <td>3.0</td>\n",
       "      <td>4.0</td>\n",
       "      <td>4.0</td>\n",
       "      <td>...</td>\n",
       "      <td>NaN</td>\n",
       "      <td>NaN</td>\n",
       "      <td>4.0</td>\n",
       "      <td>NaN</td>\n",
       "      <td>4.0</td>\n",
       "      <td>NaN</td>\n",
       "      <td>4.0</td>\n",
       "      <td>4.0</td>\n",
       "      <td>NaN</td>\n",
       "      <td>NaN</td>\n",
       "    </tr>\n",
       "    <tr>\n",
       "      <th>8</th>\n",
       "      <td>1.0</td>\n",
       "      <td>NaN</td>\n",
       "      <td>NaN</td>\n",
       "      <td>NaN</td>\n",
       "      <td>NaN</td>\n",
       "      <td>4.0</td>\n",
       "      <td>5.0</td>\n",
       "      <td>NaN</td>\n",
       "      <td>NaN</td>\n",
       "      <td>NaN</td>\n",
       "      <td>...</td>\n",
       "      <td>NaN</td>\n",
       "      <td>NaN</td>\n",
       "      <td>NaN</td>\n",
       "      <td>NaN</td>\n",
       "      <td>NaN</td>\n",
       "      <td>NaN</td>\n",
       "      <td>5.0</td>\n",
       "      <td>NaN</td>\n",
       "      <td>NaN</td>\n",
       "      <td>NaN</td>\n",
       "    </tr>\n",
       "    <tr>\n",
       "      <th>9</th>\n",
       "      <td>5.0</td>\n",
       "      <td>NaN</td>\n",
       "      <td>NaN</td>\n",
       "      <td>NaN</td>\n",
       "      <td>NaN</td>\n",
       "      <td>4.0</td>\n",
       "      <td>5.0</td>\n",
       "      <td>NaN</td>\n",
       "      <td>NaN</td>\n",
       "      <td>4.0</td>\n",
       "      <td>...</td>\n",
       "      <td>NaN</td>\n",
       "      <td>1.0</td>\n",
       "      <td>4.0</td>\n",
       "      <td>5.0</td>\n",
       "      <td>3.0</td>\n",
       "      <td>5.0</td>\n",
       "      <td>3.0</td>\n",
       "      <td>NaN</td>\n",
       "      <td>NaN</td>\n",
       "      <td>3.0</td>\n",
       "    </tr>\n",
       "    <tr>\n",
       "      <th>10</th>\n",
       "      <td>3.0</td>\n",
       "      <td>2.0</td>\n",
       "      <td>NaN</td>\n",
       "      <td>NaN</td>\n",
       "      <td>NaN</td>\n",
       "      <td>NaN</td>\n",
       "      <td>4.0</td>\n",
       "      <td>NaN</td>\n",
       "      <td>NaN</td>\n",
       "      <td>NaN</td>\n",
       "      <td>...</td>\n",
       "      <td>NaN</td>\n",
       "      <td>NaN</td>\n",
       "      <td>NaN</td>\n",
       "      <td>NaN</td>\n",
       "      <td>NaN</td>\n",
       "      <td>NaN</td>\n",
       "      <td>NaN</td>\n",
       "      <td>NaN</td>\n",
       "      <td>NaN</td>\n",
       "      <td>NaN</td>\n",
       "    </tr>\n",
       "  </tbody>\n",
       "</table>\n",
       "<p>10 rows × 943 columns</p>\n",
       "</div>"
      ],
      "text/plain": [
       "uid  1    2    3    4    5    6    7    8    9    10  ...   934  935  936  \\\n",
       "id                                                    ...                   \n",
       "1    5.0  4.0  NaN  NaN  4.0  4.0  NaN  NaN  NaN  4.0 ...   2.0  3.0  4.0   \n",
       "2    3.0  NaN  NaN  NaN  3.0  NaN  NaN  NaN  NaN  NaN ...   4.0  NaN  NaN   \n",
       "3    4.0  NaN  NaN  NaN  NaN  NaN  NaN  NaN  NaN  NaN ...   NaN  NaN  4.0   \n",
       "4    3.0  NaN  NaN  NaN  NaN  NaN  5.0  NaN  NaN  4.0 ...   5.0  NaN  NaN   \n",
       "5    3.0  NaN  NaN  NaN  NaN  NaN  NaN  NaN  NaN  NaN ...   NaN  NaN  NaN   \n",
       "6    5.0  NaN  NaN  NaN  NaN  NaN  NaN  NaN  5.0  NaN ...   NaN  NaN  5.0   \n",
       "7    4.0  NaN  NaN  NaN  NaN  2.0  5.0  3.0  4.0  4.0 ...   NaN  NaN  4.0   \n",
       "8    1.0  NaN  NaN  NaN  NaN  4.0  5.0  NaN  NaN  NaN ...   NaN  NaN  NaN   \n",
       "9    5.0  NaN  NaN  NaN  NaN  4.0  5.0  NaN  NaN  4.0 ...   NaN  1.0  4.0   \n",
       "10   3.0  2.0  NaN  NaN  NaN  NaN  4.0  NaN  NaN  NaN ...   NaN  NaN  NaN   \n",
       "\n",
       "uid  937  938  939  940  941  942  943  \n",
       "id                                      \n",
       "1    NaN  4.0  NaN  NaN  5.0  NaN  NaN  \n",
       "2    NaN  NaN  NaN  NaN  NaN  NaN  5.0  \n",
       "3    NaN  NaN  NaN  NaN  NaN  NaN  NaN  \n",
       "4    NaN  NaN  NaN  2.0  NaN  NaN  NaN  \n",
       "5    NaN  NaN  NaN  NaN  NaN  NaN  NaN  \n",
       "6    NaN  NaN  NaN  NaN  NaN  NaN  NaN  \n",
       "7    NaN  4.0  NaN  4.0  4.0  NaN  NaN  \n",
       "8    NaN  NaN  NaN  5.0  NaN  NaN  NaN  \n",
       "9    5.0  3.0  5.0  3.0  NaN  NaN  3.0  \n",
       "10   NaN  NaN  NaN  NaN  NaN  NaN  NaN  \n",
       "\n",
       "[10 rows x 943 columns]"
      ]
     },
     "execution_count": 795,
     "metadata": {},
     "output_type": "execute_result"
    }
   ],
   "source": [
    "df_flattern.head(10)"
   ]
  },
  {
   "cell_type": "markdown",
   "metadata": {},
   "source": [
    "## Formato Esparso do dataset\n",
    "\n",
    "o dataset pode ser codificado de forma esparsa antes do fill de NaN pelas médias, talvez gere ganho"
   ]
  },
  {
   "cell_type": "code",
   "execution_count": 796,
   "metadata": {},
   "outputs": [],
   "source": [
    "df_pivoted_spase = df_flattern.to_sparse()"
   ]
  },
  {
   "cell_type": "markdown",
   "metadata": {},
   "source": [
    "## Fill de valores nulos\n",
    "\n",
    "Os algoritimos que vamos utilizar são sensíveis aos valores nulos. Para diminuir esse efeito, podemos substituir zeros pela média das notas dos filmes desconsiderando os valores 0 (que são NAN na verdade);"
   ]
  },
  {
   "cell_type": "code",
   "execution_count": 797,
   "metadata": {},
   "outputs": [],
   "source": [
    "filmMeanRating = df_pivoted.mean(axis=1)"
   ]
  },
  {
   "cell_type": "markdown",
   "metadata": {},
   "source": [
    "> Obs: a função fill na por linha não está implementada no Pandas, por isso as transposições"
   ]
  },
  {
   "cell_type": "code",
   "execution_count": 798,
   "metadata": {},
   "outputs": [],
   "source": [
    "df_flattern = df_flattern.T.fillna(filmMeanRating).T"
   ]
  },
  {
   "cell_type": "code",
   "execution_count": 799,
   "metadata": {},
   "outputs": [
    {
     "data": {
      "text/html": [
       "<div>\n",
       "<style scoped>\n",
       "    .dataframe tbody tr th:only-of-type {\n",
       "        vertical-align: middle;\n",
       "    }\n",
       "\n",
       "    .dataframe tbody tr th {\n",
       "        vertical-align: top;\n",
       "    }\n",
       "\n",
       "    .dataframe thead th {\n",
       "        text-align: right;\n",
       "    }\n",
       "</style>\n",
       "<table border=\"1\" class=\"dataframe\">\n",
       "  <thead>\n",
       "    <tr style=\"text-align: right;\">\n",
       "      <th>id</th>\n",
       "      <th>1</th>\n",
       "      <th>2</th>\n",
       "      <th>3</th>\n",
       "      <th>4</th>\n",
       "      <th>5</th>\n",
       "      <th>6</th>\n",
       "      <th>7</th>\n",
       "      <th>8</th>\n",
       "      <th>9</th>\n",
       "      <th>10</th>\n",
       "      <th>...</th>\n",
       "      <th>1672</th>\n",
       "      <th>1673</th>\n",
       "      <th>1674</th>\n",
       "      <th>1675</th>\n",
       "      <th>1676</th>\n",
       "      <th>1677</th>\n",
       "      <th>1678</th>\n",
       "      <th>1679</th>\n",
       "      <th>1681</th>\n",
       "      <th>1682</th>\n",
       "    </tr>\n",
       "  </thead>\n",
       "  <tbody>\n",
       "    <tr>\n",
       "      <th>count</th>\n",
       "      <td>943.000000</td>\n",
       "      <td>943.000000</td>\n",
       "      <td>943.000000</td>\n",
       "      <td>943.000000</td>\n",
       "      <td>943.000000</td>\n",
       "      <td>943.000000</td>\n",
       "      <td>943.000000</td>\n",
       "      <td>943.000000</td>\n",
       "      <td>943.000000</td>\n",
       "      <td>943.000000</td>\n",
       "      <td>...</td>\n",
       "      <td>943.0</td>\n",
       "      <td>943.0</td>\n",
       "      <td>943.0</td>\n",
       "      <td>943.0</td>\n",
       "      <td>943.0</td>\n",
       "      <td>943.0</td>\n",
       "      <td>943.0</td>\n",
       "      <td>943.0</td>\n",
       "      <td>943.0</td>\n",
       "      <td>943.0</td>\n",
       "    </tr>\n",
       "    <tr>\n",
       "      <th>mean</th>\n",
       "      <td>3.878319</td>\n",
       "      <td>3.206107</td>\n",
       "      <td>3.033333</td>\n",
       "      <td>3.550239</td>\n",
       "      <td>3.302326</td>\n",
       "      <td>3.576923</td>\n",
       "      <td>3.798469</td>\n",
       "      <td>3.995434</td>\n",
       "      <td>3.896321</td>\n",
       "      <td>3.831461</td>\n",
       "      <td>...</td>\n",
       "      <td>2.0</td>\n",
       "      <td>3.0</td>\n",
       "      <td>4.0</td>\n",
       "      <td>3.0</td>\n",
       "      <td>2.0</td>\n",
       "      <td>3.0</td>\n",
       "      <td>1.0</td>\n",
       "      <td>3.0</td>\n",
       "      <td>3.0</td>\n",
       "      <td>3.0</td>\n",
       "    </tr>\n",
       "    <tr>\n",
       "      <th>std</th>\n",
       "      <td>0.642041</td>\n",
       "      <td>0.359043</td>\n",
       "      <td>0.372773</td>\n",
       "      <td>0.453487</td>\n",
       "      <td>0.284302</td>\n",
       "      <td>0.212022</td>\n",
       "      <td>0.632690</td>\n",
       "      <td>0.482161</td>\n",
       "      <td>0.586278</td>\n",
       "      <td>0.309907</td>\n",
       "      <td>...</td>\n",
       "      <td>0.0</td>\n",
       "      <td>0.0</td>\n",
       "      <td>0.0</td>\n",
       "      <td>0.0</td>\n",
       "      <td>0.0</td>\n",
       "      <td>0.0</td>\n",
       "      <td>0.0</td>\n",
       "      <td>0.0</td>\n",
       "      <td>0.0</td>\n",
       "      <td>0.0</td>\n",
       "    </tr>\n",
       "    <tr>\n",
       "      <th>min</th>\n",
       "      <td>1.000000</td>\n",
       "      <td>1.000000</td>\n",
       "      <td>1.000000</td>\n",
       "      <td>1.000000</td>\n",
       "      <td>1.000000</td>\n",
       "      <td>1.000000</td>\n",
       "      <td>1.000000</td>\n",
       "      <td>1.000000</td>\n",
       "      <td>1.000000</td>\n",
       "      <td>1.000000</td>\n",
       "      <td>...</td>\n",
       "      <td>2.0</td>\n",
       "      <td>3.0</td>\n",
       "      <td>4.0</td>\n",
       "      <td>3.0</td>\n",
       "      <td>2.0</td>\n",
       "      <td>3.0</td>\n",
       "      <td>1.0</td>\n",
       "      <td>3.0</td>\n",
       "      <td>3.0</td>\n",
       "      <td>3.0</td>\n",
       "    </tr>\n",
       "    <tr>\n",
       "      <th>25%</th>\n",
       "      <td>3.878319</td>\n",
       "      <td>3.206107</td>\n",
       "      <td>3.033333</td>\n",
       "      <td>3.550239</td>\n",
       "      <td>3.302326</td>\n",
       "      <td>3.576923</td>\n",
       "      <td>3.798469</td>\n",
       "      <td>3.995434</td>\n",
       "      <td>3.896321</td>\n",
       "      <td>3.831461</td>\n",
       "      <td>...</td>\n",
       "      <td>2.0</td>\n",
       "      <td>3.0</td>\n",
       "      <td>4.0</td>\n",
       "      <td>3.0</td>\n",
       "      <td>2.0</td>\n",
       "      <td>3.0</td>\n",
       "      <td>1.0</td>\n",
       "      <td>3.0</td>\n",
       "      <td>3.0</td>\n",
       "      <td>3.0</td>\n",
       "    </tr>\n",
       "    <tr>\n",
       "      <th>50%</th>\n",
       "      <td>3.878319</td>\n",
       "      <td>3.206107</td>\n",
       "      <td>3.033333</td>\n",
       "      <td>3.550239</td>\n",
       "      <td>3.302326</td>\n",
       "      <td>3.576923</td>\n",
       "      <td>3.798469</td>\n",
       "      <td>3.995434</td>\n",
       "      <td>3.896321</td>\n",
       "      <td>3.831461</td>\n",
       "      <td>...</td>\n",
       "      <td>2.0</td>\n",
       "      <td>3.0</td>\n",
       "      <td>4.0</td>\n",
       "      <td>3.0</td>\n",
       "      <td>2.0</td>\n",
       "      <td>3.0</td>\n",
       "      <td>1.0</td>\n",
       "      <td>3.0</td>\n",
       "      <td>3.0</td>\n",
       "      <td>3.0</td>\n",
       "    </tr>\n",
       "    <tr>\n",
       "      <th>75%</th>\n",
       "      <td>4.000000</td>\n",
       "      <td>3.206107</td>\n",
       "      <td>3.033333</td>\n",
       "      <td>3.550239</td>\n",
       "      <td>3.302326</td>\n",
       "      <td>3.576923</td>\n",
       "      <td>4.000000</td>\n",
       "      <td>3.995434</td>\n",
       "      <td>3.896321</td>\n",
       "      <td>3.831461</td>\n",
       "      <td>...</td>\n",
       "      <td>2.0</td>\n",
       "      <td>3.0</td>\n",
       "      <td>4.0</td>\n",
       "      <td>3.0</td>\n",
       "      <td>2.0</td>\n",
       "      <td>3.0</td>\n",
       "      <td>1.0</td>\n",
       "      <td>3.0</td>\n",
       "      <td>3.0</td>\n",
       "      <td>3.0</td>\n",
       "    </tr>\n",
       "    <tr>\n",
       "      <th>max</th>\n",
       "      <td>5.000000</td>\n",
       "      <td>5.000000</td>\n",
       "      <td>5.000000</td>\n",
       "      <td>5.000000</td>\n",
       "      <td>5.000000</td>\n",
       "      <td>5.000000</td>\n",
       "      <td>5.000000</td>\n",
       "      <td>5.000000</td>\n",
       "      <td>5.000000</td>\n",
       "      <td>5.000000</td>\n",
       "      <td>...</td>\n",
       "      <td>2.0</td>\n",
       "      <td>3.0</td>\n",
       "      <td>4.0</td>\n",
       "      <td>3.0</td>\n",
       "      <td>2.0</td>\n",
       "      <td>3.0</td>\n",
       "      <td>1.0</td>\n",
       "      <td>3.0</td>\n",
       "      <td>3.0</td>\n",
       "      <td>3.0</td>\n",
       "    </tr>\n",
       "  </tbody>\n",
       "</table>\n",
       "<p>8 rows × 1664 columns</p>\n",
       "</div>"
      ],
      "text/plain": [
       "id           1           2           3           4           5           6     \\\n",
       "count  943.000000  943.000000  943.000000  943.000000  943.000000  943.000000   \n",
       "mean     3.878319    3.206107    3.033333    3.550239    3.302326    3.576923   \n",
       "std      0.642041    0.359043    0.372773    0.453487    0.284302    0.212022   \n",
       "min      1.000000    1.000000    1.000000    1.000000    1.000000    1.000000   \n",
       "25%      3.878319    3.206107    3.033333    3.550239    3.302326    3.576923   \n",
       "50%      3.878319    3.206107    3.033333    3.550239    3.302326    3.576923   \n",
       "75%      4.000000    3.206107    3.033333    3.550239    3.302326    3.576923   \n",
       "max      5.000000    5.000000    5.000000    5.000000    5.000000    5.000000   \n",
       "\n",
       "id           7           8           9           10    ...     1672   1673  \\\n",
       "count  943.000000  943.000000  943.000000  943.000000  ...    943.0  943.0   \n",
       "mean     3.798469    3.995434    3.896321    3.831461  ...      2.0    3.0   \n",
       "std      0.632690    0.482161    0.586278    0.309907  ...      0.0    0.0   \n",
       "min      1.000000    1.000000    1.000000    1.000000  ...      2.0    3.0   \n",
       "25%      3.798469    3.995434    3.896321    3.831461  ...      2.0    3.0   \n",
       "50%      3.798469    3.995434    3.896321    3.831461  ...      2.0    3.0   \n",
       "75%      4.000000    3.995434    3.896321    3.831461  ...      2.0    3.0   \n",
       "max      5.000000    5.000000    5.000000    5.000000  ...      2.0    3.0   \n",
       "\n",
       "id      1674   1675   1676   1677   1678   1679   1681   1682  \n",
       "count  943.0  943.0  943.0  943.0  943.0  943.0  943.0  943.0  \n",
       "mean     4.0    3.0    2.0    3.0    1.0    3.0    3.0    3.0  \n",
       "std      0.0    0.0    0.0    0.0    0.0    0.0    0.0    0.0  \n",
       "min      4.0    3.0    2.0    3.0    1.0    3.0    3.0    3.0  \n",
       "25%      4.0    3.0    2.0    3.0    1.0    3.0    3.0    3.0  \n",
       "50%      4.0    3.0    2.0    3.0    1.0    3.0    3.0    3.0  \n",
       "75%      4.0    3.0    2.0    3.0    1.0    3.0    3.0    3.0  \n",
       "max      4.0    3.0    2.0    3.0    1.0    3.0    3.0    3.0  \n",
       "\n",
       "[8 rows x 1664 columns]"
      ]
     },
     "execution_count": 799,
     "metadata": {},
     "output_type": "execute_result"
    }
   ],
   "source": [
    "df_flattern.T.describe()"
   ]
  },
  {
   "cell_type": "code",
   "execution_count": 800,
   "metadata": {},
   "outputs": [],
   "source": [
    "df_flattern.to_pickle('films_features.pkl')"
   ]
  },
  {
   "cell_type": "markdown",
   "metadata": {},
   "source": [
    "# Decomposição do vetor de features"
   ]
  },
  {
   "cell_type": "markdown",
   "metadata": {},
   "source": [
    "## PCA"
   ]
  },
  {
   "cell_type": "code",
   "execution_count": 801,
   "metadata": {},
   "outputs": [],
   "source": [
    "pca_dim = 943"
   ]
  },
  {
   "cell_type": "code",
   "execution_count": 802,
   "metadata": {},
   "outputs": [],
   "source": [
    "pca = PCA(n_components=pca_dim).fit(df_flattern)"
   ]
  },
  {
   "cell_type": "code",
   "execution_count": 803,
   "metadata": {},
   "outputs": [],
   "source": [
    "cumulativeVar = pd.Series(pca.explained_variance_ratio_.cumsum())"
   ]
  },
  {
   "cell_type": "code",
   "execution_count": 804,
   "metadata": {},
   "outputs": [
    {
     "data": {
      "image/png": "[encoded data removed]",
      "text/plain": [
       "<Figure size 792x504 with 1 Axes>"
      ]
     },
     "metadata": {},
     "output_type": "display_data"
    }
   ],
   "source": [
    "plt.figure(),\n",
    "cumulativeVar.plot()\n",
    "plt.grid(True)\n",
    "plt.title(\"soma cumulativa das variâncias\")\n",
    "plt.xlabel(\"#PCA components\")\n",
    "plt.ylabel(\"cum. sum.\")\n",
    "plt.show()"
   ]
  },
  {
   "cell_type": "markdown",
   "metadata": {},
   "source": [
    "a variância ao longo das 5 primeiras dimensões já é da ordem de **e-5**. Se reduzirmos o número de dimensões para apenas 2 temos:"
   ]
  },
  {
   "cell_type": "code",
   "execution_count": 805,
   "metadata": {},
   "outputs": [],
   "source": [
    "pca_dim = 3\n",
    "pca = PCA(n_components=pca_dim).fit(df_flattern)"
   ]
  },
  {
   "cell_type": "code",
   "execution_count": 806,
   "metadata": {},
   "outputs": [
    {
     "name": "stdout",
     "output_type": "stream",
     "text": [
      "energia conservada pelas 3 primeiras componentes do PCA 0.912999\n"
     ]
    }
   ],
   "source": [
    "print(\"energia conservada pelas %i primeiras componentes do PCA %f\" % (pca_dim, pca.explained_variance_ratio_.sum())) "
   ]
  },
  {
   "cell_type": "code",
   "execution_count": 807,
   "metadata": {},
   "outputs": [],
   "source": [
    "df_pca = pd.DataFrame(pca.transform(df_flattern))"
   ]
  },
  {
   "cell_type": "markdown",
   "metadata": {},
   "source": [
    "Data Scatter"
   ]
  },
  {
   "cell_type": "code",
   "execution_count": 808,
   "metadata": {},
   "outputs": [
    {
     "data": {
      "image/png": "[encoded data removed]",
      "text/plain": [
       "<Figure size 792x504 with 1 Axes>"
      ]
     },
     "metadata": {},
     "output_type": "display_data"
    }
   ],
   "source": [
    "# plt.figure().gca(projection='3d')\n",
    "plt.figure()\n",
    "# plt.scatter(df_pca[0], df_pca[1], df_pca[2])\n",
    "plt.scatter(df_pca[0], df_pca[1])\n",
    "plt.grid(True)\n",
    "plt.title(\"filmes\")\n",
    "plt.xlabel(\"pca_0\")\n",
    "plt.ylabel(\"pca_1\")\n",
    "plt.show()"
   ]
  },
  {
   "cell_type": "markdown",
   "metadata": {},
   "source": [
    "# Clusterização\n",
    "\n",
    "Posdemos executar a clusterização no espaço não transformado pelo PCA enquanto isso não gerar problemas de desempenho. Pode-se usar o PCA para fazer a projeção para 2D e faciliar a visualização dos clustes"
   ]
  },
  {
   "cell_type": "code",
   "execution_count": 809,
   "metadata": {},
   "outputs": [],
   "source": [
    "# %%time\n",
    "# plot_learning_curve(\n",
    "#     estimator=kmeans, # clustering algorithm\n",
    "#     X=df_pivoted,y=None, # None for unsupervisioned\n",
    "#     train_sizes=(1.0,), # all for training\n",
    "#     cv=10, #cross-validation maninfolds    \n",
    "#     title=\"kmeans learning\"\n",
    "# )"
   ]
  },
  {
   "cell_type": "markdown",
   "metadata": {},
   "source": [
    "## Kmeans usando a norma L2 como medida de dessimilaridade\n",
    "\n",
    "Primeiro devemos determinar o número de clusters"
   ]
  },
  {
   "cell_type": "markdown",
   "metadata": {},
   "source": [
    "### Treinamento\n",
    "\n",
    "Para determinar o número de clusters, procuramos por um joelho na gráfico de loss (norma L@) vs número de clusters"
   ]
  },
  {
   "cell_type": "code",
   "execution_count": null,
   "metadata": {},
   "outputs": [],
   "source": [
    "th_min = 0\n",
    "th_max = 2\n",
    "n_clusters_range = np.rint(np.logspace(th_min,th_max,num=30))"
   ]
  },
  {
   "cell_type": "code",
   "execution_count": null,
   "metadata": {},
   "outputs": [],
   "source": [
    "scores = []\n",
    "time_elapsed = []"
   ]
  },
  {
   "cell_type": "code",
   "execution_count": null,
   "metadata": {},
   "outputs": [],
   "source": [
    "df_for_clustering = df_pca"
   ]
  },
  {
   "cell_type": "code",
   "execution_count": null,
   "metadata": {},
   "outputs": [
    {
     "name": "stdout",
     "output_type": "stream",
     "text": [
      "Wall time: 4.7 s\n"
     ]
    }
   ],
   "source": [
    "%%time\n",
    "for n in n_clusters_range:\n",
    "    start_time = time.time()\n",
    "    kmeans = KMeans(n_clusters=int(n)).fit(df_for_clustering)\n",
    "    elapsed_time = time.time() - start_time\n",
    "    scores.append(kmeans.inertia_)\n",
    "    time_elapsed.append(elapsed_time)"
   ]
  },
  {
   "cell_type": "markdown",
   "metadata": {},
   "source": [
    "A inércia dividida pelo número de pontos na base dá a noção da distância média entre os pontos e seus clusters, que é uma quantidade mais intuitiva"
   ]
  },
  {
   "cell_type": "code",
   "execution_count": null,
   "metadata": {},
   "outputs": [],
   "source": [
    "scores = np.array(scores)/len(df_for_clustering)"
   ]
  },
  {
   "cell_type": "code",
   "execution_count": null,
   "metadata": {},
   "outputs": [
    {
     "data": {
      "image/png": "[encoded data removed]",
      "text/plain": [
       "<Figure size 792x504 with 2 Axes>"
      ]
     },
     "metadata": {},
     "output_type": "display_data"
    }
   ],
   "source": [
    "plt.figure(),\n",
    "plt.subplot(2,1,1)\n",
    "plt.plot( n_clusters_range, scores)\n",
    "plt.grid(True)\n",
    "plt.title(\"score x #clusters\")\n",
    "plt.ylabel(\"score\")\n",
    "plt.subplot(2,1,2)\n",
    "plt.plot( n_clusters_range, time_elapsed)\n",
    "plt.grid(True)\n",
    "plt.xlabel(\"#clusters\")\n",
    "plt.ylabel(\"time_elapsed\")\n",
    "plt.show()"
   ]
  },
  {
   "cell_type": "code",
   "execution_count": null,
   "metadata": {},
   "outputs": [],
   "source": [
    "#Scaling of data\n",
    "# ss = StandardScaler()\n",
    "# ss.fit_transform(df_pivoted_sparse)\n",
    "\n",
    "clust_labels = kmeans.labels_"
   ]
  },
  {
   "cell_type": "markdown",
   "metadata": {},
   "source": [
    "Por inspeção, há um joelho entre 10 e 20, vou repetir a análise para aumentar o range de 10 a 20"
   ]
  },
  {
   "cell_type": "code",
   "execution_count": null,
   "metadata": {},
   "outputs": [],
   "source": [
    "n_clusters_range2 = np.linspace(5,20,num=10)"
   ]
  },
  {
   "cell_type": "code",
   "execution_count": null,
   "metadata": {},
   "outputs": [],
   "source": [
    "scores2 = []\n",
    "time_elapsed2 = []"
   ]
  },
  {
   "cell_type": "code",
   "execution_count": null,
   "metadata": {},
   "outputs": [
    {
     "name": "stdout",
     "output_type": "stream",
     "text": [
      "Wall time: 966 ms\n"
     ]
    }
   ],
   "source": [
    "%%time\n",
    "for n in n_clusters_range2:\n",
    "    start_time = time.time()\n",
    "    kmeans = KMeans(n_clusters=int(n)).fit(df_for_clustering)\n",
    "    elapsed_time = time.time() - start_time\n",
    "    scores2.append(kmeans.inertia_)\n",
    "    time_elapsed2.append(elapsed_time)"
   ]
  },
  {
   "cell_type": "markdown",
   "metadata": {},
   "source": [
    "A inércia dividida pelo número de pontos na base dá a noção da distância média entre os pontos e seus clusters, que é uma quantidade mais intuitiva"
   ]
  },
  {
   "cell_type": "code",
   "execution_count": null,
   "metadata": {},
   "outputs": [],
   "source": [
    "scores2 = np.array(scores2)/len(df_for_clustering)"
   ]
  },
  {
   "cell_type": "code",
   "execution_count": null,
   "metadata": {},
   "outputs": [
    {
     "data": {
      "image/png": "[encoded data removed]",
      "text/plain": [
       "<Figure size 792x504 with 2 Axes>"
      ]
     },
     "metadata": {},
     "output_type": "display_data"
    }
   ],
   "source": [
    "plt.figure(),\n",
    "plt.subplot(2,1,1)\n",
    "plt.plot( n_clusters_range2, scores2)\n",
    "plt.grid(True)\n",
    "plt.title(\"score x #clusters\")\n",
    "plt.ylabel(\"score\")\n",
    "plt.subplot(2,1,2)\n",
    "plt.plot( n_clusters_range2, time_elapsed2)\n",
    "plt.grid(True)\n",
    "plt.xlabel(\"#clusters\")\n",
    "plt.ylabel(\"time_elapsed\")\n",
    "plt.show()"
   ]
  },
  {
   "cell_type": "markdown",
   "metadata": {},
   "source": [
    "Por inspeção n=10, parece uma boa definição para o joelho"
   ]
  },
  {
   "cell_type": "code",
   "execution_count": null,
   "metadata": {},
   "outputs": [],
   "source": [
    "n_ = 10\n",
    "kmeans = KMeans(n_clusters=n_).fit(df_for_clustering)"
   ]
  },
  {
   "cell_type": "code",
   "execution_count": null,
   "metadata": {},
   "outputs": [],
   "source": [
    "clust_labels = kmeans.labels_"
   ]
  },
  {
   "cell_type": "code",
   "execution_count": null,
   "metadata": {},
   "outputs": [],
   "source": [
    "df = df_for_clustering.copy()\n",
    "df['cluster'] = clust_labels"
   ]
  },
  {
   "cell_type": "code",
   "execution_count": null,
   "metadata": {},
   "outputs": [
    {
     "data": {
      "image/png": "[encoded data removed]",
      "text/plain": [
       "<Figure size 792x504 with 1 Axes>"
      ]
     },
     "metadata": {},
     "output_type": "display_data"
    }
   ],
   "source": [
    "filmsInClusterCount = pd.Series(data=df.groupby(['cluster']).count()[0])\n",
    "plt.figure(),\n",
    "filmsInClusterCount.plot.bar(x='index', y='cluster', rot=0)\n",
    "plt.xlabel(\"cluster\")\n",
    "plt.grid(True)\n",
    "plt.ylabel(\"freq. absoluta\")\n",
    "plt.title('distribuição nos clusters')\n",
    "plt.show()"
   ]
  },
  {
   "cell_type": "markdown",
   "metadata": {},
   "source": [
    "### Visualizando so resultados\n",
    "\n",
    "com os clusters treinados, podemos prosseguir com a análise e tentar descobrir se são relevantes"
   ]
  },
  {
   "cell_type": "code",
   "execution_count": null,
   "metadata": {},
   "outputs": [
    {
     "name": "stderr",
     "output_type": "stream",
     "text": [
      "C:\\Users\\souza\\Anaconda3\\envs\\movielens_env\\lib\\site-packages\\scipy\\stats\\stats.py:1713: FutureWarning: Using a non-tuple sequence for multidimensional indexing is deprecated; use `arr[tuple(seq)]` instead of `arr[seq]`. In the future this will be interpreted as an array index, `arr[np.array(seq)]`, which will result either in an error or a different result.\n",
      "  return np.add.reduce(sorted[indexer] * weights, axis=axis) / sumval\n"
     ]
    },
    {
     "data": {
      "text/plain": [
       "<Figure size 792x504 with 0 Axes>"
      ]
     },
     "metadata": {},
     "output_type": "display_data"
    },
    {
     "data": {
      "image/png": "[encoded data removed]",
      "text/plain": [
       "<Figure size 585.85x540 with 12 Axes>"
      ]
     },
     "metadata": {},
     "output_type": "display_data"
    }
   ],
   "source": [
    "plt.figure(),\n",
    "g = sns.pairplot( df, hue=\"cluster\", x_vars=df_pca.columns, y_vars=df_pca.columns)\n",
    "plt.show()"
   ]
  },
  {
   "cell_type": "markdown",
   "metadata": {},
   "source": [
    "##### Conclusões\n",
    "> Aparentemente, os clusters usados separaram os dados (para a maioria dos clusters), com planos ortogonais ao eixo 0 do PCA."
   ]
  },
  {
   "cell_type": "code",
   "execution_count": null,
   "metadata": {},
   "outputs": [],
   "source": [
    "to_enrich = ratingsDF.groupby('id').agg(\n",
    "    {'timestamp':'first',\n",
    "     'id':'first',\n",
    "     'movie_title':'first', \n",
    "     'release_date':'first',\n",
    "     'unknown':'first', \n",
    "     'Action':'first', \n",
    "     'Adventure':'first', \n",
    "     'Animation':'first', \n",
    "     'Children\\'s':'first',\n",
    "       'Comedy':'first', \n",
    "     'Crime':'first', \n",
    "     'Documentary':'first', \n",
    "     'Drama':'first', \n",
    "     'Fantasy':'first', \n",
    "     'Film-Noir':'first',\n",
    "       'Horror':'first', \n",
    "     'Musical':'first', \n",
    "     'Mystery':'first', \n",
    "     'Romance':'first', \n",
    "     'Sci-Fi':'first', \n",
    "     'Thriller':'first', \n",
    "     'War':'first',\n",
    "    'Western':'first'\n",
    "    })"
   ]
  },
  {
   "cell_type": "code",
   "execution_count": null,
   "metadata": {},
   "outputs": [],
   "source": [
    "df_full = pd.concat([df, to_enrich], axis=1, join='inner')"
   ]
  },
  {
   "cell_type": "code",
   "execution_count": null,
   "metadata": {},
   "outputs": [],
   "source": [
    "df_full[df_full['cluster'] == 0].head(10)\n",
    "df_full = df_full.rename(mapper={0:'pca_0', 1:'pca_1', 2:'pca_2'}, axis='columns')"
   ]
  },
  {
   "cell_type": "code",
   "execution_count": null,
   "metadata": {},
   "outputs": [],
   "source": [
    "df_full.head(10)"
   ]
  },
  {
   "cell_type": "markdown",
   "metadata": {},
   "source": [
    "Intra cluster coesion"
   ]
  },
  {
   "cell_type": "code",
   "execution_count": null,
   "metadata": {},
   "outputs": [],
   "source": [
    "intra_cluster_dist = []\n",
    "dists_sum = []\n",
    "for c in range(0, n_):\n",
    "    in_cluster = df_full[df_full.cluster == c]\n",
    "    centroid = np.array(kmeans.cluster_centers_[c]).reshape(1,-1)\n",
    "    dists = euclidean_distances(in_cluster[[\"pca_0\",\"pca_1\",\"pca_2\"]], centroid)\n",
    "    sqr = np.dot(dists.reshape(-1),dists.reshape(-1))\n",
    "    dists_sum.append(sqr)\n",
    "    dist = dists.mean()\n",
    "    cluster_sz = len(in_cluster)\n",
    "    intra_cluster_dist.append([c,dist,cluster_sz])\n",
    "intra_cluster_dist = pd.DataFrame(columns=['cluster', 'mean_dist', 'cluster_sz'], data=intra_cluster_dist)"
   ]
  },
  {
   "cell_type": "markdown",
   "metadata": {},
   "source": [
    "Os clusters em ordem de coesão"
   ]
  },
  {
   "cell_type": "code",
   "execution_count": null,
   "metadata": {},
   "outputs": [],
   "source": [
    "intra_cluster_dist.sort_values(['mean_dist'])"
   ]
  },
  {
   "cell_type": "markdown",
   "metadata": {},
   "source": [
    "**Conclusão**\n",
    "> os clusters 9 e 7 são pequenos e pouco coesos, o que pode significar que não sejam clusters de fato, mas apenas 'outliers'"
   ]
  },
  {
   "cell_type": "code",
   "execution_count": null,
   "metadata": {},
   "outputs": [],
   "source": [
    "for c in range(0, n_):\n",
    "    in_cluster = df_full[df_full.cluster == c]\n",
    "    print(\"Cluster %i\" % c)\n",
    "    print(in_cluster.sample(n=10)['movie_title'])\n",
    "    in_cluster.to_csv(\"../ProcessedData/clustering/10k/cluster_%i_kmeans.csv\" % c)\n",
    "    clusters_samples[c] = in_cluster"
   ]
  },
  {
   "cell_type": "markdown",
   "metadata": {},
   "source": [
    "### Onde estão os filmes populares?"
   ]
  },
  {
   "cell_type": "code",
   "execution_count": null,
   "metadata": {},
   "outputs": [],
   "source": [
    "kmeans_populares = df_full[df_full['id'].isin(popular_ids.index)]"
   ]
  },
  {
   "cell_type": "code",
   "execution_count": null,
   "metadata": {},
   "outputs": [],
   "source": [
    "filmsInClusterCount = pd.Series(data=kmeans_populares.groupby(['cluster']).count()['pca_0'])"
   ]
  },
  {
   "cell_type": "code",
   "execution_count": null,
   "metadata": {},
   "outputs": [],
   "source": [
    "plt.figure()\n",
    "filmsInClusterCount.plot.bar()\n",
    "plt.xlabel(\"cluster\")\n",
    "plt.grid(True)\n",
    "plt.ylabel(\"freq. absoluta\")\n",
    "plt.title('distribuição dos filmes populares nos clusters')\n",
    "plt.show()"
   ]
  },
  {
   "cell_type": "markdown",
   "metadata": {},
   "source": [
    "**conclsão**\n",
    "> Hà filmes populares em todos os clusters, mas são mais frequentes nos clusters 0, 2, 5 e 8"
   ]
  },
  {
   "cell_type": "code",
   "execution_count": null,
   "metadata": {},
   "outputs": [],
   "source": [
    "for c in range(0, n_):\n",
    "    in_cluster = kmeans_populares[kmeans_populares.cluster == c]\n",
    "    if len(in_cluster)> 2:\n",
    "        print(\"filmes populares do Cluster %i\" % c)\n",
    "        print(in_cluster.sample(n=2)['movie_title'])\n",
    "        in_cluster.to_csv(\"../ProcessedData/clustering/10k/cluster_%i_kmeans.csv\" % c)\n",
    "        clusters_samples[c] = in_cluster"
   ]
  },
  {
   "cell_type": "markdown",
   "metadata": {},
   "source": [
    "## DBScan usando a norma L2 como medida de dessimilaridade\n",
    "\n",
    "Primeiro devemos determinar os hiperparâmetros\n",
    "1. **eps**: The maximum distance between two samples for them to be considered as in the same neighborhood.\n",
    "2. **min_samples**: The number of samples (or total weight) in a neighborhood for a point to be considered as a core point. This includes the point itself."
   ]
  },
  {
   "cell_type": "markdown",
   "metadata": {},
   "source": [
    "### range de EPS\n",
    "\n",
    "Vou me basear nos valores típicos de distâncias no dataset"
   ]
  },
  {
   "cell_type": "code",
   "execution_count": null,
   "metadata": {},
   "outputs": [],
   "source": [
    "dists = pd.Series(euclidean_distances(df_for_clustering, df_for_clustering).reshape(-1))"
   ]
  },
  {
   "cell_type": "code",
   "execution_count": null,
   "metadata": {},
   "outputs": [],
   "source": [
    "plt.figure()\n",
    "pd.Series(dists).hist()\n",
    "plt.title('distribuição das distâncias entre pontos')\n",
    "plt.xlabel('distância')\n",
    "plt.ylabel('freqq. absoluta')\n",
    "plt.show()"
   ]
  },
  {
   "cell_type": "code",
   "execution_count": null,
   "metadata": {},
   "outputs": [],
   "source": [
    "dists.describe()"
   ]
  },
  {
   "cell_type": "markdown",
   "metadata": {},
   "source": [
    "**Conclusão**\n",
    "> vou fazer esse parâmetro variar dentro do primeiro quartil, ou seja, entre 0 e 10"
   ]
  },
  {
   "cell_type": "markdown",
   "metadata": {},
   "source": [
    "### Treinamento"
   ]
  },
  {
   "cell_type": "code",
   "execution_count": null,
   "metadata": {},
   "outputs": [],
   "source": [
    "def clustering_score(clustering, df):\n",
    "    dists_sum = []\n",
    "    intra_cluster_dist = []\n",
    "    cluster_sz = []\n",
    "    labels = pd.Series(clustering.labels_)\n",
    "    n_ = labels.max() + 1\n",
    "    for c in range(0, n_):\n",
    "        in_cluster = df.iloc[clustering.labels_ == c]\n",
    "        centroid = np.array(clustering.cluster_centers_[c]).reshape(1,-1)\n",
    "        dists = euclidean_distances(df, centroid)\n",
    "        dist = dists.mean()\n",
    "        dists_sum.append(dists.sum())\n",
    "        cluster_sz = len(in_cluster)\n",
    "        intra_cluster_dist.append([c,dist,cluster_sz])\n",
    "    intra_cluster_dist = pd.DataFrame(columns=['cluster', 'mean_dist', 'cluster_sz'], data=intra_cluster_dist)\n",
    "    inertia = np.array(dists_sum).sum()\n",
    "    return intra_cluster_dist, inertia"
   ]
  },
  {
   "cell_type": "code",
   "execution_count": null,
   "metadata": {},
   "outputs": [],
   "source": [
    "eps_range = np.logspace(-2,1,num=30)\n",
    "min_sample_range = np.rint(np.linspace(1,10,num=10))"
   ]
  },
  {
   "cell_type": "markdown",
   "metadata": {},
   "source": [
    "Exemplo fornecido pela documentação do SKlearn da classse DBSCAN\n",
    "\n",
    "```python\n",
    "from sklearn.cluster import DBSCAN\n",
    "import numpy as np\n",
    "X = np.array([[1, 2], [2, 2], [2, 3],\n",
    "              [8, 7], [8, 8], [25, 80]])\n",
    "clustering = DBSCAN(eps=3, min_samples=2).fit(X)\n",
    "clustering.labels_\n",
    "```"
   ]
  },
  {
   "cell_type": "code",
   "execution_count": null,
   "metadata": {},
   "outputs": [],
   "source": [
    "from sklearn.cluster import DBSCAN\n",
    "import numpy as np\n",
    "dbscan = DBSCAN(eps=.9, min_samples=6).fit(df_for_clustering)"
   ]
  },
  {
   "cell_type": "code",
   "execution_count": null,
   "metadata": {},
   "outputs": [],
   "source": [
    "n_clusters = labels\n",
    "df_clustered = df_for_clustering.copy()\n",
    "df_clustered['cluster'] = dbscan.labels_"
   ]
  },
  {
   "cell_type": "code",
   "execution_count": null,
   "metadata": {},
   "outputs": [],
   "source": [
    "# dosts, intertia = clustering_score(clustering,df_for_clustering )"
   ]
  },
  {
   "cell_type": "code",
   "execution_count": null,
   "metadata": {},
   "outputs": [],
   "source": [
    "# %%time\n",
    "# time_elapsed = []\n",
    "# scores = []\n",
    "# for n in eps_range:\n",
    "#     for m in min_sample_range:\n",
    "#         start_time = time.time()\n",
    "#         dbscan = DBSCAN(eps=n, min_samples=m).fit(df_for_clustering)\n",
    "#         elapsed_time = time.time() - start_time\n",
    "#         dosts, intertia = clustering_score(dbscan,df_for_clustering )\n",
    "#         scores.append(intertia)\n",
    "#         time_elapsed.append(elapsed_time)"
   ]
  },
  {
   "cell_type": "code",
   "execution_count": null,
   "metadata": {},
   "outputs": [],
   "source": [
    "plt.figure()\n",
    "g = sns.pairplot( df_clustered, hue=\"cluster\", x_vars=df_for_clustering.columns, y_vars=df_pca.columns)\n",
    "plt.show()"
   ]
  },
  {
   "cell_type": "code",
   "execution_count": null,
   "metadata": {},
   "outputs": [],
   "source": [
    "filmsInClusterCount = pd.Series(data=df_clustered.groupby(['cluster']).count()[0])"
   ]
  },
  {
   "cell_type": "code",
   "execution_count": null,
   "metadata": {},
   "outputs": [],
   "source": [
    "plt.figure(),\n",
    "filmsInClusterCount.plot.bar(x='index', y='cluster', rot=0)\n",
    "plt.xlabel(\"cluster\")\n",
    "plt.grid(True)\n",
    "plt.ylabel(\"freq. absoluta\")\n",
    "plt.title('distribuição nos clusters')\n",
    "plt.show()"
   ]
  },
  {
   "cell_type": "markdown",
   "metadata": {},
   "source": [
    "**Conclusão**\n",
    "> A ausência do centroide dificulta um pouco a avaliação do que seria a coesão intra-cluster.\n",
    "> Após algumas tentativas varrendo manualmente os parâmetros do algorítimo, achei que os clusters acima eram significativos em termos de número de filmes no cluster. Observei que:\n",
    "> \n",
    "> * Se diminuimos o eps, mantendo-se o mesmo valor de min_samples, o grupo 0 aumenta e o grupo -1 (ruído) diminui\n",
    "> * Se mantemos o valor de eps fixo e aumentamos o valor de min_samples, o número de clusters diminui e o tamanho do grupo -1 (ruído) também aumenta."
   ]
  },
  {
   "cell_type": "markdown",
   "metadata": {},
   "source": [
    "### Visualizando so resultados"
   ]
  },
  {
   "cell_type": "code",
   "execution_count": null,
   "metadata": {},
   "outputs": [],
   "source": [
    "df_full2 = pd.concat([df_clustered, to_enrich], axis=1, join='inner')\n",
    "df_full2 = df_full2.rename(mapper={0:'pca_0', 1:'pca_1', 2:'pca_2'}, axis='columns')"
   ]
  },
  {
   "cell_type": "code",
   "execution_count": null,
   "metadata": {},
   "outputs": [],
   "source": [
    "df_full2.head(10)"
   ]
  },
  {
   "cell_type": "code",
   "execution_count": null,
   "metadata": {},
   "outputs": [],
   "source": [
    "for c in range(0, n_):\n",
    "    in_cluster = df_full2[df_full2.cluster == c]\n",
    "    print(\"Cluster %i\" % c)\n",
    "    s_sz = (len(in_cluster),10)[10 < len(in_cluster)]\n",
    "    print(in_cluster.sample(n=s_sz)['movie_title'])\n",
    "    in_cluster.to_csv(\"../ProcessedData/clustering/10k/cluster_%i_dbscan.csv\" % c)\n",
    "    clusters_samples[c] = in_cluster"
   ]
  },
  {
   "cell_type": "markdown",
   "metadata": {},
   "source": [
    "### Onde estão os filmes populares?"
   ]
  },
  {
   "cell_type": "code",
   "execution_count": null,
   "metadata": {},
   "outputs": [],
   "source": [
    "dbscan_populares = df_full2[df_full2['id'].isin(popular_ids.index)]"
   ]
  },
  {
   "cell_type": "code",
   "execution_count": null,
   "metadata": {},
   "outputs": [],
   "source": [
    "filmsInClusterCount = pd.Series(data=dbscan_populares.groupby(['cluster']).count()['pca_0'])"
   ]
  },
  {
   "cell_type": "code",
   "execution_count": null,
   "metadata": {},
   "outputs": [],
   "source": [
    "plt.figure()\n",
    "filmsInClusterCount.plot.bar()\n",
    "plt.xlabel(\"cluster\")\n",
    "plt.grid(True)\n",
    "plt.ylabel(\"freq. absoluta\")\n",
    "plt.title('distribuição dos filmes populares nos clusters')\n",
    "plt.show()"
   ]
  },
  {
   "cell_type": "markdown",
   "metadata": {},
   "source": [
    "**conclsão**\n",
    "> Os filmes poplares são mais frequentes no cluster de ruído e no cluster 0. O que indica que o algoritmo foi pouco sensível a esses filmes populares ja que a maioria deles caiu no cluster do ruído"
   ]
  },
  {
   "cell_type": "code",
   "execution_count": null,
   "metadata": {},
   "outputs": [],
   "source": [
    "for c in range(0, n_):\n",
    "    in_cluster = dbscan_populares[dbscan_populares.cluster == c]\n",
    "    if len(in_cluster) > 2:\n",
    "        print(\"filmes populares do Cluster %i\" % c)\n",
    "        print(in_cluster.sample(n=2)['movie_title'])\n",
    "        in_cluster.to_csv(\"../ProcessedData/clustering/10k/cluster_%i_kmeans.csv\" % c)\n",
    "        clusters_samples[c] = in_cluster"
   ]
  },
  {
   "cell_type": "markdown",
   "metadata": {},
   "source": [
    "# Conclusão"
   ]
  },
  {
   "cell_type": "markdown",
   "metadata": {},
   "source": [
    "## Na Base de 100k\n",
    "\n",
    "**Vetores de features e PCA**\n",
    "\n",
    "Os vetores de features (notas dadas por todos os usuários para o filme) realmente eram esparsos como se esperava. A nédia dos filmes recebeu 59 notas, mas a distribição do número de usuários que deu nota pra os filmes é altamente assimétrica e a moda da distribuição é 1. Por isso, o PCA reduziu bastante as dimensões do problema e 3 componentes representam quase 90% da energia total dos vetores de features. Com a dimensão reduzida, foi possível rodar os alogoritmos em tempo viável.\n",
    "\n",
    "Os filmes populares, que foram definidos com aqueles com um grande número de notas diferentes de 0. Utilizei o box plot para determinar um limiar de 100 para esses filmes, o que faz com que 333 filmes sejam considerados populares.\n",
    "\n",
    "**Clusterização KMeans**\n",
    "\n",
    "A função de loss (somatório das distâncias ao quadrado dos pontos aos centróides de seus clusters) apresentou um \"joeçho\" em 10 clusters e por isso esse foi o número de clusters que foi utilizado. Os clusters obtidos pelo Kmenas\n",
    "são paralelos a dimensão 0 do PCA (a de maior variância) e, a exceção de uns poucos, são formados por um grande número de filmes.\n",
    "\n",
    "O algoritmo parece distribuiu os filmes populares entre os clusters. Eles se revelaram mais frequentes nos clusters 0, 5 e 2 que são clusters com uma grande quantidade de filmes. \n",
    "\n",
    "**Clusterização DBScan**\n",
    "\n",
    "o ajuste dos hiper-parâmetros do algoritmo DBScan foi menos sistemático já que a ausência do conceito de uma função de loss que seja minimizada dificulta essa avaliação. O que se observou foi que:\n",
    "\n",
    "* Se diminuimos o eps, mantendo-se o mesmo valor de min_samples, o grupo 0 aumenta e o grupo -1 (ruído) diminui\n",
    "* Se mantemos o valor de eps fixo e aumentamos o valor de min_samples, o número de clusters diminui e o tamanho do grupo -1 (ruído) também aumenta.\n",
    "\n",
    "O espaço de features abstrato, isto é, a transformada PCA dos vetores de features, dificultou bastante a escolha de parâmetros adequados. Por fim, observou-se que o número de pontos do conjunto de ruído é relativamente alto e o tamanho dos clusters gerados é tipicamente menor que os gerados pelo KMeans.\n",
    "\n",
    "O algoritmo não parece sensível aos filmes populares já que a maioria deles caiu no grupo de ruído (-1)."
   ]
  }
 ],
 "metadata": {
  "kernelspec": {
   "display_name": "movielens_env",
   "language": "python",
   "name": "movielens_env"
  },
  "language_info": {
   "codemirror_mode": {
    "name": "ipython",
    "version": 3
   },
   "file_extension": ".py",
   "mimetype": "text/x-python",
   "name": "python",
   "nbconvert_exporter": "python",
   "pygments_lexer": "ipython3",
   "version": "3.7.1"
  }
 },
 "nbformat": 4,
 "nbformat_minor": 2
}
